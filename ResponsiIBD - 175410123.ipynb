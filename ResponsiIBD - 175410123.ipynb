{
 "cells": [
  {
   "cell_type": "code",
   "execution_count": 1,
   "id": "103a9d8c-2c59-4478-9fe1-4763bb77603b",
   "metadata": {},
   "outputs": [],
   "source": [
    "import sys\n",
    "from pyspark.sql import SparkSession\n",
    "from pyspark.sql import *\n",
    "from pyspark.sql.types import *\n",
    "from pyspark.sql.functions import *\n",
    "import pyspark"
   ]
  },
  {
   "cell_type": "code",
   "execution_count": 2,
   "id": "24c2a32d-93d5-47f7-9f81-0540ad273142",
   "metadata": {},
   "outputs": [],
   "source": [
    "spark = SparkSession.builder.appName(\"My Spark Application\").getOrCreate()"
   ]
  },
  {
   "cell_type": "code",
   "execution_count": 21,
   "id": "17ce1abe-c9a8-4eaa-af63-4c2145d0dbf5",
   "metadata": {},
   "outputs": [
    {
     "name": "stderr",
     "output_type": "stream",
     "text": [
      "                                                                                \r"
     ]
    }
   ],
   "source": [
    "data = spark.read.csv(\"uber_reviews.csv\", inferSchema = True, header = True)"
   ]
  },
  {
   "cell_type": "code",
   "execution_count": 22,
   "id": "4499a526-afb6-41c4-a79d-b01327767994",
   "metadata": {},
   "outputs": [
    {
     "name": "stdout",
     "output_type": "stream",
     "text": [
      "+---+--------------------+--------------------+-------------+--------------------+-------------+------------+------------------+-------------------+\n",
      "|_c0|           review_id|    pseudo_author_id|  author_name|         review_text|review_rating|review_likes|author_app_version|   review_timestamp|\n",
      "+---+--------------------+--------------------+-------------+--------------------+-------------+------------+------------------+-------------------+\n",
      "|  0|c71a7775-6bd9-44b...|15261855397701969...|A Google user|Better late than ...|            4|           0|             1.0.9|2010-11-03 22:43:32|\n",
      "|  1|05aa8694-129d-41b...|23438294286543707...|A Google user|Keeps telling me ...|            2|           0|             1.0.9|2010-11-04 00:29:34|\n",
      "|  2|15a19799-0332-4f3...|17447360460835879...|A Google user|There's not a cha...|            1|           1|             1.0.9|2010-11-05 18:52:45|\n",
      "|  3|15db1acc-94d2-409...|28659345321905488...|A Google user|Sign up process i...|            3|           1|             1.0.9|2010-11-07 18:47:16|\n",
      "|  4|05b8679c-452c-413...|16727687567868063...|A Google user|Great service! Ti...|            5|           0|             1.0.9|2010-11-08 22:14:26|\n",
      "|  5|61b4d3ad-b4f9-428...|27954456236468096...|A Google user|I know Uber is a ...|            2|           2|             1.0.9|2010-11-21 23:53:34|\n",
      "|  6|939301f9-bacc-40c...|19459423170011627...|A Google user|Registration form...|            1|           1|            1.0.13|2010-12-18 19:25:52|\n",
      "|  7|b3943e74-d4f5-47b...|29957254222821324...|A Google user|Great service, lo...|            2|           0|            1.0.13|2010-12-23 12:58:44|\n",
      "|  8|3bce524e-07c2-49a...|28329598505695727...|A Google user|What a load of cr...|            1|           0|            1.0.15|2010-12-27 15:23:23|\n",
      "|  9|28a06833-f3cf-487...|16567334017309738...|A Google user|Doesn't work with...|            1|           0|            1.0.16|2011-01-04 14:59:01|\n",
      "| 10|f8715679-c4d6-4af...|12703356977592576...|A Google user|Amazing service, ...|            5|           3|            1.0.21|2011-02-21 05:55:39|\n",
      "| 11|e91ee903-6979-4d4...|21299929716192803...|A Google user|Can't log in even...|            2|           1|            1.0.21|2011-03-08 16:17:58|\n",
      "| 12|c4b9328a-fc8c-41e...|13746390320613786...|A Google user|Bug fixed hours a...|            4|           1|            1.0.28|2011-03-09 00:43:25|\n",
      "| 13|77e5d2dc-62ee-4f7...|19979665414289137...|A Google user|not the best UI.....|            4|           1|            1.0.21|2011-03-11 06:04:25|\n",
      "| 14|580d13ed-9cb7-4f6...|27447309416472821...|A Google user|Good app, great s...|            3|           1|            1.0.34|2011-04-19 05:55:27|\n",
      "| 15|c4b4dfcd-93d6-4ea...|24555804857610637...|A Google user|I don't think I'v...|            5|           3|            1.0.60|2011-04-19 17:55:58|\n",
      "| 16|9750e4a3-95c8-4cf...|30931156891908846...|A Google user|Leave your iphone...|            1|           5|            1.0.38|2011-04-28 21:11:05|\n",
      "| 17|230e94fe-079f-439...|24778064802458865...|A Google user|Use it all the ti...|            5|           1|            1.0.44|2011-06-08 15:41:47|\n",
      "| 18|f95458a7-d488-486...|28080144628633895...|A Google user|Great concept. Be...|            4|           0|            1.0.50|2011-06-28 05:35:12|\n",
      "| 19|00dc55ac-b331-47b...|25534898222680756...|A Google user|I switched to Ube...|            5|           7|            1.0.44|2011-07-05 07:53:44|\n",
      "+---+--------------------+--------------------+-------------+--------------------+-------------+------------+------------------+-------------------+\n",
      "only showing top 20 rows\n",
      "\n"
     ]
    },
    {
     "name": "stderr",
     "output_type": "stream",
     "text": [
      "23/12/18 22:57:51 WARN CSVHeaderChecker: CSV header does not conform to the schema.\n",
      " Header: , review_id, pseudo_author_id, author_name, review_text, review_rating, review_likes, author_app_version, review_timestamp\n",
      " Schema: _c0, review_id, pseudo_author_id, author_name, review_text, review_rating, review_likes, author_app_version, review_timestamp\n",
      "Expected: _c0 but found: \n",
      "CSV file: file:///home/ubuntu/uber_reviews.csv\n"
     ]
    }
   ],
   "source": [
    "data.show()"
   ]
  },
  {
   "cell_type": "code",
   "execution_count": 23,
   "id": "b2755fb2-61e9-49e1-b6c6-5386b7f4b056",
   "metadata": {},
   "outputs": [],
   "source": [
    "data = data.withColumnRenamed('_c0','sno')"
   ]
  },
  {
   "cell_type": "code",
   "execution_count": 24,
   "id": "bdabd65c-c8ca-4ff9-9273-90497534628c",
   "metadata": {},
   "outputs": [
    {
     "name": "stdout",
     "output_type": "stream",
     "text": [
      "+---+--------------------+--------------------+-------------+--------------------+-------------+------------+------------------+-------------------+\n",
      "|sno|           review_id|    pseudo_author_id|  author_name|         review_text|review_rating|review_likes|author_app_version|   review_timestamp|\n",
      "+---+--------------------+--------------------+-------------+--------------------+-------------+------------+------------------+-------------------+\n",
      "|  0|c71a7775-6bd9-44b...|15261855397701969...|A Google user|Better late than ...|            4|           0|             1.0.9|2010-11-03 22:43:32|\n",
      "|  1|05aa8694-129d-41b...|23438294286543707...|A Google user|Keeps telling me ...|            2|           0|             1.0.9|2010-11-04 00:29:34|\n",
      "|  2|15a19799-0332-4f3...|17447360460835879...|A Google user|There's not a cha...|            1|           1|             1.0.9|2010-11-05 18:52:45|\n",
      "|  3|15db1acc-94d2-409...|28659345321905488...|A Google user|Sign up process i...|            3|           1|             1.0.9|2010-11-07 18:47:16|\n",
      "|  4|05b8679c-452c-413...|16727687567868063...|A Google user|Great service! Ti...|            5|           0|             1.0.9|2010-11-08 22:14:26|\n",
      "|  5|61b4d3ad-b4f9-428...|27954456236468096...|A Google user|I know Uber is a ...|            2|           2|             1.0.9|2010-11-21 23:53:34|\n",
      "|  6|939301f9-bacc-40c...|19459423170011627...|A Google user|Registration form...|            1|           1|            1.0.13|2010-12-18 19:25:52|\n",
      "|  7|b3943e74-d4f5-47b...|29957254222821324...|A Google user|Great service, lo...|            2|           0|            1.0.13|2010-12-23 12:58:44|\n",
      "|  8|3bce524e-07c2-49a...|28329598505695727...|A Google user|What a load of cr...|            1|           0|            1.0.15|2010-12-27 15:23:23|\n",
      "|  9|28a06833-f3cf-487...|16567334017309738...|A Google user|Doesn't work with...|            1|           0|            1.0.16|2011-01-04 14:59:01|\n",
      "| 10|f8715679-c4d6-4af...|12703356977592576...|A Google user|Amazing service, ...|            5|           3|            1.0.21|2011-02-21 05:55:39|\n",
      "| 11|e91ee903-6979-4d4...|21299929716192803...|A Google user|Can't log in even...|            2|           1|            1.0.21|2011-03-08 16:17:58|\n",
      "| 12|c4b9328a-fc8c-41e...|13746390320613786...|A Google user|Bug fixed hours a...|            4|           1|            1.0.28|2011-03-09 00:43:25|\n",
      "| 13|77e5d2dc-62ee-4f7...|19979665414289137...|A Google user|not the best UI.....|            4|           1|            1.0.21|2011-03-11 06:04:25|\n",
      "| 14|580d13ed-9cb7-4f6...|27447309416472821...|A Google user|Good app, great s...|            3|           1|            1.0.34|2011-04-19 05:55:27|\n",
      "| 15|c4b4dfcd-93d6-4ea...|24555804857610637...|A Google user|I don't think I'v...|            5|           3|            1.0.60|2011-04-19 17:55:58|\n",
      "| 16|9750e4a3-95c8-4cf...|30931156891908846...|A Google user|Leave your iphone...|            1|           5|            1.0.38|2011-04-28 21:11:05|\n",
      "| 17|230e94fe-079f-439...|24778064802458865...|A Google user|Use it all the ti...|            5|           1|            1.0.44|2011-06-08 15:41:47|\n",
      "| 18|f95458a7-d488-486...|28080144628633895...|A Google user|Great concept. Be...|            4|           0|            1.0.50|2011-06-28 05:35:12|\n",
      "| 19|00dc55ac-b331-47b...|25534898222680756...|A Google user|I switched to Ube...|            5|           7|            1.0.44|2011-07-05 07:53:44|\n",
      "+---+--------------------+--------------------+-------------+--------------------+-------------+------------+------------------+-------------------+\n",
      "only showing top 20 rows\n",
      "\n"
     ]
    },
    {
     "name": "stderr",
     "output_type": "stream",
     "text": [
      "23/12/18 22:57:57 WARN CSVHeaderChecker: CSV header does not conform to the schema.\n",
      " Header: , review_id, pseudo_author_id, author_name, review_text, review_rating, review_likes, author_app_version, review_timestamp\n",
      " Schema: _c0, review_id, pseudo_author_id, author_name, review_text, review_rating, review_likes, author_app_version, review_timestamp\n",
      "Expected: _c0 but found: \n",
      "CSV file: file:///home/ubuntu/uber_reviews.csv\n"
     ]
    }
   ],
   "source": [
    "data.show()"
   ]
  },
  {
   "cell_type": "code",
   "execution_count": 25,
   "id": "db7e67e4-bf0b-4b11-af46-4e56b0d5e4c4",
   "metadata": {},
   "outputs": [
    {
     "data": {
      "text/plain": [
       "83326"
      ]
     },
     "execution_count": 25,
     "metadata": {},
     "output_type": "execute_result"
    }
   ],
   "source": [
    "data.count()"
   ]
  },
  {
   "cell_type": "code",
   "execution_count": null,
   "id": "4db24ce6-b4fd-464a-9f5c-21b00022c95e",
   "metadata": {},
   "outputs": [],
   "source": []
  }
 ],
 "metadata": {
  "kernelspec": {
   "display_name": "Python 3 (ipykernel)",
   "language": "python",
   "name": "python3"
  },
  "language_info": {
   "codemirror_mode": {
    "name": "ipython",
    "version": 3
   },
   "file_extension": ".py",
   "mimetype": "text/x-python",
   "name": "python",
   "nbconvert_exporter": "python",
   "pygments_lexer": "ipython3",
   "version": "3.10.12"
  }
 },
 "nbformat": 4,
 "nbformat_minor": 5
}
